{
 "cells": [
  {
   "cell_type": "code",
   "execution_count": 1,
   "metadata": {},
   "outputs": [],
   "source": [
    "import math\n",
    "from collections import defaultdict\n",
    "import pandas as pd"
   ]
  },
  {
   "cell_type": "code",
   "execution_count": 2,
   "metadata": {},
   "outputs": [],
   "source": [
    "class MultinomialNaiveBayes:\n",
    "    \"\"\"\n",
    "    A Multinomial Naive Bayes classifier for text documents.\n",
    "    \"\"\"\n",
    "\n",
    "    def __init__(self):\n",
    "        \"\"\"Initialize the classifier with empty counts.\"\"\"\n",
    "        self.class_counts = defaultdict(int)\n",
    "        self.word_counts = defaultdict(lambda: defaultdict(int))\n",
    "        self.vocabulary = set()\n",
    "        self.total_docs = 0\n",
    "\n",
    "    def train(self, documents, labels):\n",
    "        \"\"\"\n",
    "        Train the classifier with documents and their corresponding labels.\n",
    "\n",
    "        Args:\n",
    "            documents (list of list of str): The training documents.\n",
    "            labels (list of str): The class labels for each document.\n",
    "        \"\"\"\n",
    "        self.total_docs = len(documents)\n",
    "        for doc, label in zip(documents, labels):\n",
    "            self.class_counts[label] += 1\n",
    "            for word in doc:\n",
    "                self.word_counts[label][word] += 1\n",
    "                self.vocabulary.add(word)\n",
    "\n",
    "    def predict(self, document, alpha=1.0):\n",
    "        \"\"\"\n",
    "        Predict the class of a document and compute probabilities at each step.\n",
    "\n",
    "        Args:\n",
    "            document (list of str): The document to classify.\n",
    "            alpha (float): Smoothing parameter (default is 1.0 for Laplace smoothing).\n",
    "\n",
    "        Returns:\n",
    "            tuple: A tuple containing the scores and a detailed breakdown of probabilities.\n",
    "        \"\"\"\n",
    "        scores = {}\n",
    "        steps = {}\n",
    "\n",
    "        for label in self.class_counts:\n",
    "            prior_prob = self.class_counts[label] / self.total_docs\n",
    "            prior_log = math.log(prior_prob)\n",
    "            likelihood_log = 0.0\n",
    "            likelihood_steps = []\n",
    "\n",
    "            total_words_in_class = sum(self.word_counts[label].values())\n",
    "            vocab_size = len(self.vocabulary)\n",
    "\n",
    "            for word in document:\n",
    "                count = self.word_counts[label].get(word, 0)\n",
    "                smoothed_prob = (count + alpha) / \\\n",
    "                    (total_words_in_class + alpha * vocab_size)\n",
    "                likelihood_log += math.log(smoothed_prob)\n",
    "                likelihood_steps.append({\n",
    "                    'word': word,\n",
    "                    'count': count,\n",
    "                    'smoothed_prob': smoothed_prob\n",
    "                })\n",
    "\n",
    "            total_score = prior_log + likelihood_log\n",
    "            scores[label] = total_score\n",
    "            steps[label] = {\n",
    "                'prior_prob': prior_prob,\n",
    "                'prior_log': prior_log,\n",
    "                'likelihood_log': likelihood_log,\n",
    "                'likelihood_steps': likelihood_steps,\n",
    "                'total_score': total_score,\n",
    "                'unnormalized_prob': math.exp(total_score)\n",
    "            }\n",
    "\n",
    "        return scores, steps"
   ]
  },
  {
   "cell_type": "code",
   "execution_count": 3,
   "metadata": {},
   "outputs": [],
   "source": [
    "# Training data\n",
    "documents = [\n",
    "    ['fun', 'couple', 'love', 'love'],\n",
    "    ['fast', 'furious', 'shoot'],\n",
    "    ['couple', 'fly', 'fast', 'fun', 'fun'],\n",
    "    ['furious', 'shoot', 'shoot', 'fun'],\n",
    "    ['fly', 'fast', 'shoot', 'love']\n",
    "]\n",
    "labels = ['comedy', 'action', 'comedy', 'action', 'action']"
   ]
  },
  {
   "cell_type": "code",
   "execution_count": 4,
   "metadata": {},
   "outputs": [],
   "source": [
    "# Initialize the classifier\n",
    "classifier = MultinomialNaiveBayes()\n",
    "\n",
    "# Train the classifier\n",
    "classifier.train(documents, labels)"
   ]
  },
  {
   "cell_type": "code",
   "execution_count": 5,
   "metadata": {},
   "outputs": [
    {
     "name": "stdout",
     "output_type": "stream",
     "text": [
      "Vocabulary:\n",
      "{'love', 'shoot', 'couple', 'fast', 'furious', 'fun', 'fly'}\n",
      "\n",
      "Word Counts per Class:\n",
      "\n",
      "Class: comedy\n",
      "  fun: 3\n",
      "  couple: 2\n",
      "  love: 2\n",
      "  fly: 1\n",
      "  fast: 1\n",
      "\n",
      "Class: action\n",
      "  fast: 2\n",
      "  furious: 2\n",
      "  shoot: 4\n",
      "  fun: 1\n",
      "  fly: 1\n",
      "  love: 1\n"
     ]
    }
   ],
   "source": [
    "print(\"Vocabulary:\")\n",
    "print(classifier.vocabulary)\n",
    "\n",
    "print(\"\\nWord Counts per Class:\")\n",
    "for label in classifier.word_counts:\n",
    "    print(f\"\\nClass: {label}\")\n",
    "    for word, count in classifier.word_counts[label].items():\n",
    "        print(f\"  {word}: {count}\")"
   ]
  },
  {
   "cell_type": "code",
   "execution_count": 6,
   "metadata": {},
   "outputs": [],
   "source": [
    "# New document to classify\n",
    "new_doc_text = \"fast couple shoot fly\"\n",
    "new_doc = new_doc_text.strip().split()"
   ]
  },
  {
   "cell_type": "code",
   "execution_count": 7,
   "metadata": {},
   "outputs": [],
   "source": [
    "alpha = 1.0"
   ]
  },
  {
   "cell_type": "code",
   "execution_count": 8,
   "metadata": {},
   "outputs": [],
   "source": [
    "scores, steps = classifier.predict(new_doc, alpha=alpha)"
   ]
  },
  {
   "cell_type": "code",
   "execution_count": 9,
   "metadata": {},
   "outputs": [
    {
     "name": "stdout",
     "output_type": "stream",
     "text": [
      "\n",
      "Class: comedy\n",
      "Prior probability P(comedy) = 0.4000\n",
      "Log prior: -0.9163\n",
      "Likelihoods:\n",
      "  P(fast|comedy) = 0.1250\n",
      "  P(couple|comedy) = 0.1875\n",
      "  P(shoot|comedy) = 0.0625\n",
      "  P(fly|comedy) = 0.1250\n",
      "Log-likelihood: -8.6054\n",
      "Total log-score: -9.5217\n",
      "Unnormalized probability: 0.00007324\n",
      "\n",
      "Class: action\n",
      "Prior probability P(action) = 0.6000\n",
      "Log prior: -0.5108\n",
      "Likelihoods:\n",
      "  P(fast|action) = 0.1667\n",
      "  P(couple|action) = 0.0556\n",
      "  P(shoot|action) = 0.2778\n",
      "  P(fly|action) = 0.1111\n",
      "Log-likelihood: -8.1603\n",
      "Total log-score: -8.6711\n",
      "Unnormalized probability: 0.00017147\n"
     ]
    }
   ],
   "source": [
    "for label in steps:\n",
    "    print(f\"\\nClass: {label}\")\n",
    "    print(f\"Prior probability P({label}) = {steps[label]['prior_prob']:.4f}\")\n",
    "    print(f\"Log prior: {steps[label]['prior_log']:.4f}\")\n",
    "    print(\"Likelihoods:\")\n",
    "    for item in steps[label]['likelihood_steps']:\n",
    "        word = item['word']\n",
    "        count = item['count']\n",
    "        smoothed_prob = item['smoothed_prob']\n",
    "        print(f\"  P({word}|{label}) = {smoothed_prob:.4f}\")\n",
    "    print(f\"Log-likelihood: {steps[label]['likelihood_log']:.4f}\")\n",
    "    print(f\"Total log-score: {steps[label]['total_score']:.4f}\")\n",
    "    print(f\"Unnormalized probability: {steps[label]['unnormalized_prob']:.8f}\")"
   ]
  },
  {
   "cell_type": "code",
   "execution_count": 10,
   "metadata": {},
   "outputs": [
    {
     "name": "stdout",
     "output_type": "stream",
     "text": [
      "\n",
      "Most likely class: action\n"
     ]
    }
   ],
   "source": [
    "most_likely_class = max(scores, key=scores.get)\n",
    "print(f\"\\nMost likely class: {most_likely_class}\")"
   ]
  }
 ],
 "metadata": {
  "kernelspec": {
   "display_name": "Python 3",
   "language": "python",
   "name": "python3"
  },
  "language_info": {
   "codemirror_mode": {
    "name": "ipython",
    "version": 3
   },
   "file_extension": ".py",
   "mimetype": "text/x-python",
   "name": "python",
   "nbconvert_exporter": "python",
   "pygments_lexer": "ipython3",
   "version": "3.12.3"
  }
 },
 "nbformat": 4,
 "nbformat_minor": 2
}
